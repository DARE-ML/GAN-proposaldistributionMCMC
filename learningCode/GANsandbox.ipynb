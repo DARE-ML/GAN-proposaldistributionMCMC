{
 "cells": [
  {
   "cell_type": "code",
   "execution_count": 16,
   "source": [
    "import torch.nn as nn\n",
    "import torch\n",
    "from torch import optim"
   ],
   "outputs": [],
   "metadata": {}
  },
  {
   "cell_type": "code",
   "execution_count": 12,
   "source": [
    "class discriminator(nn.Module):\n",
    "    def __init__(self):\n",
    "        super(discriminator, self).__init__()\n",
    "        self.main = nn.Sequential(\n",
    "            nn.Linear(5, 2),\n",
    "            nn.LeakyReLU(0.2),\n",
    "            nn.Linear(2, 1),\n",
    "            nn.Sigmoid()\n",
    "        )\n",
    "\n",
    "    def forward(self, input):\n",
    "        return self.main(input)\n",
    "\n",
    "\n",
    "class generator(nn.Module):\n",
    "    def __init__(self):\n",
    "        super(generator, self).__init__()\n",
    "        self.main = nn.Sequential(\n",
    "            nn.Linear(2, 3),\n",
    "            nn.ReLU(),\n",
    "            nn.Linear(3, 5),\n",
    "            nn.Sigmoid()\n",
    "        )\n",
    "\n",
    "    def forward(self, input):\n",
    "        return self.main(input)\n",
    "\n"
   ],
   "outputs": [],
   "metadata": {}
  },
  {
   "cell_type": "code",
   "execution_count": 24,
   "source": [
    "latent = torch.randn((10,2))\n",
    "g = generator()\n",
    "d = discriminator()\n",
    "lr = 0.01\n",
    "g_optim = optim.SGD(g.parameters(), lr=lr)\n",
    "d_optim = optim.SGD(g.parameters(), lr=lr)\n",
    "    \n",
    "fake = g(latent)\n",
    "discriminate = d(fake)\n",
    "loss = torch.sum(torch.log(discriminate))\n",
    "print([x.grad for x in g.parameters()])\n",
    "loss.backward()\n",
    "print([x.grad for x in g.parameters()])\n"
   ],
   "outputs": [
    {
     "output_type": "stream",
     "name": "stdout",
     "text": [
      "[None, None, None, None]\n",
      "[tensor([[ 0.0000,  0.0000],\n",
      "        [-0.0001,  0.0006],\n",
      "        [-0.0056, -0.0046]]), tensor([ 0.0000, -0.0004, -0.0265]), tensor([[ 0.0000, -0.0126, -0.0144],\n",
      "        [ 0.0000, -0.0164, -0.0189],\n",
      "        [ 0.0000, -0.0097, -0.0111],\n",
      "        [ 0.0000, -0.0191, -0.0219],\n",
      "        [ 0.0000, -0.0159, -0.0182]]), tensor([-0.0408, -0.0527, -0.0325, -0.0616, -0.0521])]\n"
     ]
    }
   ],
   "metadata": {}
  },
  {
   "cell_type": "code",
   "execution_count": 27,
   "source": [
    "latent = torch.randn((10,2))\n",
    "g = generator()\n",
    "d = discriminator()\n",
    "lr = 0.01\n",
    "g_optim = optim.SGD(g.parameters(), lr=lr)\n",
    "d_optim = optim.SGD(g.parameters(), lr=lr)\n",
    "for p in g.parameters():\n",
    "    p.requires_grad = False\n",
    "fake = g(latent)\n",
    "discriminate = d(fake)\n",
    "loss = torch.sum(torch.log(discriminate))\n",
    "print([x.grad for x in g.parameters()])\n",
    "loss.backward()\n",
    "print([x.grad for x in g.parameters()])\n"
   ],
   "outputs": [
    {
     "output_type": "stream",
     "name": "stdout",
     "text": [
      "[None, None, None, None]\n",
      "[None, None, None, None]\n"
     ]
    }
   ],
   "metadata": {}
  },
  {
   "cell_type": "code",
   "execution_count": 33,
   "source": [
    "m = nn.Conv2d(16, 33, 3, stride=2)\n",
    "m"
   ],
   "outputs": [
    {
     "output_type": "execute_result",
     "data": {
      "text/plain": [
       "Conv2d(16, 33, kernel_size=(3, 3), stride=(2, 2))"
      ]
     },
     "metadata": {},
     "execution_count": 33
    }
   ],
   "metadata": {}
  },
  {
   "cell_type": "code",
   "execution_count": 36,
   "source": [
    "from resnet import ResNet50\n",
    "rn = ResNet50(num_classes= 10)\n",
    "#print(rn)\n",
    "from torchinfo import summary\n",
    "batch_size = 10\n",
    "#summary(rn,input_size=(batch_size,3,64,64))"
   ],
   "outputs": [],
   "metadata": {}
  },
  {
   "cell_type": "code",
   "execution_count": 76,
   "source": [
    "multnorm = torch.distributions.Normal(torch.zeros(10000),1)\n",
    "for i in range(10):\n",
    "    x = multnorm.sample()\n",
    "    x.shape\n",
    "    #print(torch.sum(multnorm.log_prob(x)))\n",
    "    y = multnorm.sample()\n",
    "    print(torch.sum(x-y),torch.exp(torch.sum(x-y)))\n"
   ],
   "outputs": [
    {
     "output_type": "stream",
     "name": "stdout",
     "text": [
      "tensor(330.9375) tensor(inf)\n",
      "tensor(-244.0561) tensor(0.)\n",
      "tensor(167.1870) tensor(inf)\n",
      "tensor(-226.3232) tensor(0.)\n",
      "tensor(-2.2905) tensor(0.1012)\n",
      "tensor(54.3075) tensor(3.8501e+23)\n",
      "tensor(-257.8607) tensor(0.)\n",
      "tensor(15.8175) tensor(7403807.)\n",
      "tensor(-59.7905) tensor(1.0797e-26)\n",
      "tensor(4.9155) tensor(136.3829)\n"
     ]
    }
   ],
   "metadata": {}
  },
  {
   "cell_type": "code",
   "execution_count": 59,
   "source": [
    "multnorm_proper = torch.distributions.MultivariateNormal(torch.zeros(3),torch.eye(3))\n",
    "m = multnorm.sample()\n",
    "print(multnorm.log_prob(m))\n",
    "multnorm_ind    = torch.distributions.Normal(torch.zeros(3),1)\n",
    "print(torch.sum(multnorm_ind.log_prob(m)),multnorm_ind.log_prob(m))\n"
   ],
   "outputs": [
    {
     "output_type": "stream",
     "name": "stdout",
     "text": [
      "tensor(-3.2665)\n",
      "tensor(-3.2665) tensor([-1.1662, -1.0321, -1.0682])\n"
     ]
    }
   ],
   "metadata": {}
  },
  {
   "cell_type": "code",
   "execution_count": 107,
   "source": [
    "ri = torch.randint(0,2,(10000000,))\n",
    "from time import time\n",
    "st = time()\n",
    "r1 = 1-ri\n",
    "print(time()-st)\n",
    "\n",
    "st =  time()\n",
    "r2 = ri^1\n",
    "print(time()-st)\n",
    "#print((r1==r2).sum())"
   ],
   "outputs": [
    {
     "output_type": "stream",
     "name": "stdout",
     "text": [
      "0.028229951858520508\n",
      "0.02357935905456543\n"
     ]
    }
   ],
   "metadata": {}
  },
  {
   "cell_type": "code",
   "execution_count": 114,
   "source": [
    "class LargeDimParamGen(nn.Module):\n",
    "    def __init__(self):\n",
    "        super().__init__()\n",
    "        self.seq = nn.Sequential(\n",
    "            nn.Linear(100, 1000),\n",
    "            nn.ReLU(),\n",
    "            nn.Linear(1000, 1000000),\n",
    "            nn.Sigmoid()\n",
    "        )\n",
    "    def forward(self,x):\n",
    "        return self.seq(x)\n",
    "\n",
    "ldpg = LargeDimParamGen()\n",
    "from torchinfo import summary\n",
    "batch_size = 1\n",
    "summary(ldpg,input_size=(batch_size,100))"
   ],
   "outputs": [],
   "metadata": {}
  }
 ],
 "metadata": {
  "orig_nbformat": 4,
  "language_info": {
   "name": "python",
   "version": "3.9.7",
   "mimetype": "text/x-python",
   "codemirror_mode": {
    "name": "ipython",
    "version": 3
   },
   "pygments_lexer": "ipython3",
   "nbconvert_exporter": "python",
   "file_extension": ".py"
  },
  "kernelspec": {
   "name": "python3",
   "display_name": "Python 3.9.7 64-bit ('qttrade': conda)"
  },
  "interpreter": {
   "hash": "a67e17c8fc420817cbdbd0caa16d6c1c40b59f1d67d5d3254ca561366ced5b2e"
  }
 },
 "nbformat": 4,
 "nbformat_minor": 2
}