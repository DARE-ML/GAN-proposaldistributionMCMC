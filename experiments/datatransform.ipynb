{
 "cells": [
  {
   "cell_type": "code",
   "execution_count": 21,
   "id": "b521b1ef",
   "metadata": {},
   "outputs": [],
   "source": [
    "import numpy as np\n",
    "import h5py\n",
    "from Code.transform import transforms"
   ]
  },
  {
   "cell_type": "code",
   "execution_count": 22,
   "id": "86ed75bd",
   "metadata": {
    "scrolled": true
   },
   "outputs": [
    {
     "data": {
      "text/plain": [
       "{'ta': [<function Code.transform.<lambda>(d)>,\n",
       "  <function Code.transform.<lambda>(o, a)>],\n",
       " 'ua': [<function Code.transform.<lambda>(d)>,\n",
       "  <function Code.transform.<lambda>(o, a)>],\n",
       " 'va': [<function Code.transform.<lambda>(d)>,\n",
       "  <function Code.transform.<lambda>(o, a)>],\n",
       " 'wap': [<function Code.transform.<lambda>(d)>,\n",
       "  <function Code.transform.<lambda>(o, a)>],\n",
       " 'hus': [<function Code.transform.<lambda>(d)>,\n",
       "  <function Code.transform.<lambda>(o, a)>],\n",
       " 'zeta': [<function Code.transform.<lambda>(d)>,\n",
       "  <function Code.transform.<lambda>(o, a)>],\n",
       " 'zg': [<function Code.transform.<lambda>(d)>,\n",
       "  <function Code.transform.<lambda>(o, a)>],\n",
       " 'd': [<function Code.transform.<lambda>(d)>,\n",
       "  <function Code.transform.<lambda>(o, a)>],\n",
       " 'ps': [<function Code.transform.<lambda>(d)>,\n",
       "  <function Code.transform.<lambda>(o, a)>]}"
      ]
     },
     "execution_count": 22,
     "metadata": {},
     "output_type": "execute_result"
    }
   ],
   "source": [
    "transforms"
   ]
  },
  {
   "cell_type": "code",
   "execution_count": null,
   "id": "0a891ba4",
   "metadata": {},
   "outputs": [],
   "source": [
    "f = h5py.File('TransformedDS.hdf5','a')"
   ]
  },
  {
   "cell_type": "code",
   "execution_count": 13,
   "id": "49af5e37",
   "metadata": {
    "scrolled": true
   },
   "outputs": [
    {
     "data": {
      "text/plain": [
       "(32, 64)"
      ]
     },
     "execution_count": 13,
     "metadata": {},
     "output_type": "execute_result"
    }
   ],
   "source": [
    "if 'LatitudeMap' not in f:\n",
    "    f.create_dataset(\"LatitudeMap\",(32,64),dtype = 'f4')\n",
    "    f['LatitudeMap'] = np.tile(\n",
    "        np.linspace(-1, 1, num=32, endpoint=True, retstep=False, dtype='f4', axis=0),\n",
    "        (64,1)\n",
    "    ).T"
   ]
  },
  {
   "cell_type": "code",
   "execution_count": 17,
   "id": "6a1bbf5c",
   "metadata": {},
   "outputs": [],
   "source": [
    "raw = h5py.File('./data/11y1burn6hres45mstep_mini/chan81_ncdf4.nc','r')\n",
    "#f.create_dataset(\"TransformedData\",(14608,81, 32, 64),dtype = 'f4')\n",
    "if \"TransformedData\" not in f:\n",
    "    f.create_dataset(\"TransformedData\",(14608,81, 32, 64),dtype = 'f4')\n",
    "    \n",
    "raw.close()\n",
    "    "
   ]
  }
 ],
 "metadata": {
  "kernelspec": {
   "display_name": "Python 3 (ipykernel)",
   "language": "python",
   "name": "python3"
  },
  "language_info": {
   "codemirror_mode": {
    "name": "ipython",
    "version": 3
   },
   "file_extension": ".py",
   "mimetype": "text/x-python",
   "name": "python",
   "nbconvert_exporter": "python",
   "pygments_lexer": "ipython3",
   "version": "3.9.7"
  }
 },
 "nbformat": 4,
 "nbformat_minor": 5
}
