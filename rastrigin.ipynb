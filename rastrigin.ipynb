{
 "cells": [
  {
   "cell_type": "code",
   "execution_count": null,
   "source": [
    "import torch, math\n",
    "import torch.optim as optim\n",
    "x = torch.tensor([4.5], requires_grad = True)\n",
    "#y = x**2\n",
    "#print(x,y)\n",
    "optimizer = optim.SGD([x],lr = 0.1)#,lr=0.01, momentum=0.9)\n",
    "for i in range(20):\n",
    "    optimizer.zero_grad()\n",
    "    y = torch.square(x)\n",
    "    y.backward()\n",
    "    print(x,y)\n",
    "    optimizer.step()    "
   ],
   "outputs": [],
   "metadata": {}
  },
  {
   "cell_type": "code",
   "execution_count": null,
   "source": [
    "# initial coord\n",
    "xy = torch.randn(2,requires_grad=True)*10\n",
    "# grid \n",
    "x_coord = torch.linspace(-5.12,5.12,100)#.reshape(-1,1)\n",
    "y_coord = torch.linspace(-5.12,5.12,100)#.reshape(-1,1)\n",
    "x_mesh,y_mesh = torch.meshgrid(x_coord, y_coord, indexing='ij')\n",
    "xy_mesh_stack = torch.stack((x_mesh,y_mesh))\n",
    "print(xy_mesh_stack.shape)\n",
    "# target function to find optimum/minimum\n",
    "A,n,PI = 10,2,torch.tensor(math.pi)\n",
    "f = lambda coord: A*n+torch.sum(torch.square(coord)-A*torch.cos(2*PI*coord),dim=0)\n",
    "\n",
    "print(f(xy_mesh_stack).shape)\n",
    "print(torch.min(f(xy_mesh_stack)))\n",
    "\n",
    "import matplotlib.pyplot as plt\n",
    "from matplotlib import cm\n",
    "from matplotlib.ticker import LinearLocator\n",
    "import numpy as np\n",
    "\n",
    "fig, ax = plt.subplots(subplot_kw={\"projection\": \"3d\"},figsize=(10,10))\n",
    "surf = ax.plot_surface(x_mesh, y_mesh, f(xy_mesh_stack), cmap=cm.coolwarm,\n",
    "                       linewidth=0, antialiased=False)\n",
    "plt.show()"
   ],
   "outputs": [],
   "metadata": {}
  },
  {
   "cell_type": "markdown",
   "source": [
    "```\n",
    "output\n",
    "torch.Size([2, 100, 100])\n",
    "torch.Size([100, 100])\n",
    "tensor(1.0520)\n",
    "```\n",
    "![3d view of 2d rastrigin](rast/rastrigin2d.png)\n",
    " "
   ],
   "metadata": {}
  },
  {
   "cell_type": "code",
   "execution_count": null,
   "source": [
    "deltaX = (max(x_coord) - min(x_coord))/10\n",
    "deltaY = (max(y_coord) - min(y_coord))/10\n",
    "xmin = min(x_coord) - deltaX\n",
    "xmax = max(x_coord) + deltaX\n",
    "ymin = min(y_coord) - deltaY\n",
    "ymax = max(y_coord) + deltaY\n",
    "\n",
    "fig = plt.figure(figsize=(8,8))\n",
    "ax = fig.gca()\n",
    "ax.set_xlim(xmin, xmax)\n",
    "ax.set_ylim(ymin, ymax)\n",
    "cfset = ax.contourf(x_mesh, y_mesh, f(xy_mesh_stack), cmap='coolwarm')\n",
    "#ax.imshow(np.rot90(f), cmap='coolwarm', extent=[xmin, xmax, ymin, ymax])\n",
    "#cset = ax.contour(x_mesh, y_mesh, f(xy_mesh_stack), colors='k')\n",
    "#ax.clabel(cset, inline=1, fontsize=10)\n",
    "ax.set_xlabel('X')\n",
    "ax.set_ylabel('Y')\n",
    "plt.title('2D plot')"
   ],
   "outputs": [],
   "metadata": {}
  },
  {
   "cell_type": "markdown",
   "source": [
    "![bird view of 2d rastrigin](rast/rastrigin2dbird.png)"
   ],
   "metadata": {}
  },
  {
   "cell_type": "code",
   "execution_count": null,
   "source": [
    "import torch\n",
    "x = torch.rand(2,requires_grad=True)*10\n",
    "print(x)"
   ],
   "outputs": [],
   "metadata": {}
  },
  {
   "cell_type": "markdown",
   "source": [
    "# Sampling Rastrigin, unbounded random walk, bounded unif prior."
   ],
   "metadata": {}
  },
  {
   "cell_type": "code",
   "execution_count": null,
   "source": [
    "from mcmc import MetropolisHasting, RastriginRandomWalkUnifPrior\n",
    "\n",
    "for i in range(2):\n",
    "    mhsampler = MetropolisHasting(10000,RastriginRandomWalkUnifPrior)\n",
    "    mhsampler.performSample()\n",
    "    print(mhsampler.target._last_sample_index)\n",
    "\n",
    "    X = mhsampler.target._samples_store\n",
    "    import matplotlib.pyplot as plt\n",
    "    #plt.scatter(X[:, 0], X[:, 1])#, s=50, c = truth)\n",
    "    #plt.title(f\"Rastrigin sampling\")\n",
    "    #plt.xlabel(\"x\")\n",
    "    #plt.ylabel(\"y\")\n",
    "    #plt.show()\n",
    "\n",
    "    x,y = X[:,0].numpy(), X[:,1].numpy()\n",
    "    h =plt.hist2d(x, y,bins = 100)\n",
    "    plt.colorbar(h[3])\n",
    "    plt.show()\n",
    "    bp = -1"
   ],
   "outputs": [],
   "metadata": {}
  },
  {
   "cell_type": "markdown",
   "source": [
    "![](rast/rastrigin_unbound_rw.png)"
   ],
   "metadata": {}
  },
  {
   "cell_type": "markdown",
   "source": [
    "# RastriginRandomWalk Normal Prior \n",
    "\n",
    "## THIS ONE IS ACTUALLY BROKEN AND OF ALL THE SAME PROPOSAL VARIANCE  = 0.1"
   ],
   "metadata": {}
  },
  {
   "cell_type": "code",
   "execution_count": null,
   "source": [
    "from mcmc import MetropolisHasting, RastriginRandomWalkNormPrior\n",
    "\n",
    "import matplotlib.pyplot as plt\n",
    "\n",
    "fig, axes = plt.subplots(2,3,figsize = (12, 12))\n",
    "PROPOSAL_STDS = [0.1,0.3,0.5]\n",
    "\n",
    "for j,std in enumerate(PROPOSAL_STDS):\n",
    "    for i in range(2):\n",
    "        total_samples = 20000\n",
    "        distr = RastriginRandomWalkNormPrior(total_samples,proposal_std=std,prior_std=2)\n",
    "        mhsampler = MetropolisHasting(distr)\n",
    "        mhsampler.performSample()\n",
    "        #print(mhsampler.target._last_sample_index)\n",
    "\n",
    "        X = mhsampler.target._samples_store\n",
    "\n",
    "        x,y = X[:,0].numpy(), X[:,1].numpy()\n",
    "        axes[i][j].hist2d(x, y,bins = 100)\n",
    "    #plt.colorbar(axes[i][3])\n",
    "#plt.show()\n",
    "bp = -1"
   ],
   "outputs": [],
   "metadata": {}
  },
  {
   "cell_type": "markdown",
   "source": [
    "![](rast/rastrigin_rw_norm.png)"
   ],
   "metadata": {}
  },
  {
   "cell_type": "code",
   "execution_count": null,
   "source": [
    "from mcmc import MetropolisHasting, RastriginTruncNorm\n",
    "\n",
    "import matplotlib.pyplot as plt\n",
    "\n",
    "fig, axes = plt.subplots(2,3,figsize = (8, 8))\n",
    "PROPOSAL_STDS = [0.05,0.1,0.5]\n",
    "\n",
    "for j,std in enumerate(PROPOSAL_STDS):\n",
    "    for i in range(2):\n",
    "        total_samples = 20000\n",
    "        distr = RastriginTruncNorm(total_samples,proposal_std=std,prior_std=2)\n",
    "        mhsampler = MetropolisHasting(distr)\n",
    "        mhsampler.performSample()\n",
    "        #print(mhsampler.target._last_sample_index)\n",
    "\n",
    "        X = mhsampler.target._samples_store\n",
    "\n",
    "        x,y = X[:,0].numpy(), X[:,1].numpy()\n",
    "        axes[i][j].hist2d(x, y,bins = 100)\n",
    "    #plt.colorbar(axes[i][3])\n",
    "#plt.show()\n",
    "bp = -1"
   ],
   "outputs": [],
   "metadata": {}
  },
  {
   "cell_type": "markdown",
   "source": [
    "![](rast/rastrigin_trunc_norm.png)"
   ],
   "metadata": {}
  },
  {
   "cell_type": "code",
   "execution_count": 9,
   "source": [
    "from scipy.stats import truncnorm\n",
    "#truncnorm.rvs(-5,5,loc=10,scale = 2)\n",
    "my_std = 2\n",
    "my_mean = 10\n",
    "myclip_a = -10\n",
    "myclip_b = -5\n",
    "\n",
    "a, b = (myclip_a - my_mean) / my_std, (myclip_b - my_mean) / my_std\n",
    "truncnorm.rvs(a,b,loc = my_mean, scale= my_std,size = 10)"
   ],
   "outputs": [
    {
     "output_type": "execute_result",
     "data": {
      "text/plain": [
       "array([-5.01917769, -5.19591141, -5.20441466, -5.19770292, -5.03653304,\n",
       "       -5.3529195 , -5.27467897, -5.06163705, -5.18629912, -5.3863685 ])"
      ]
     },
     "metadata": {},
     "execution_count": 9
    }
   ],
   "metadata": {}
  }
 ],
 "metadata": {
  "orig_nbformat": 4,
  "language_info": {
   "name": "python",
   "version": "3.9.7",
   "mimetype": "text/x-python",
   "codemirror_mode": {
    "name": "ipython",
    "version": 3
   },
   "pygments_lexer": "ipython3",
   "nbconvert_exporter": "python",
   "file_extension": ".py"
  },
  "kernelspec": {
   "name": "python3",
   "display_name": "Python 3.9.7 64-bit ('qttrade': conda)"
  },
  "interpreter": {
   "hash": "a67e17c8fc420817cbdbd0caa16d6c1c40b59f1d67d5d3254ca561366ced5b2e"
  }
 },
 "nbformat": 4,
 "nbformat_minor": 2
}